{
 "cells": [
  {
   "cell_type": "code",
   "execution_count": null,
   "metadata": {},
   "outputs": [],
   "source": [
    "import pandas as pd\n",
    "\n",
    "#edges_path = '/Users/alessandro/Downloads/COLLAB/COLLAB.edges'\n",
    "graph_idx_path = '/Users/alessandro/Downloads/COLLAB/COLLAB.graph_idx'\n",
    "graph_labels_path = '/Users/alessandro/Downloads/COLLAB/COLLAB.graph_labels'\n",
    "\n",
    "# Load files\n",
    "#edges_df = pd.read_csv(edges_path, header=None, names=['source', 'target'])\n",
    "graph_idx_df = pd.read_csv(graph_idx_path, header=None, names=['graph_id'])\n",
    "graph_labels_df = pd.read_csv(graph_labels_path, header=None, names=['label'])\n"
   ]
  },
  {
   "cell_type": "code",
   "execution_count": 9,
   "metadata": {},
   "outputs": [
    {
     "name": "stdout",
     "output_type": "stream",
     "text": [
      "(372474, 1)\n",
      "            graph_id\n",
      "count  372474.000000\n",
      "mean     2757.371296\n",
      "std      1484.695077\n",
      "min         1.000000\n",
      "25%      1448.000000\n",
      "50%      2940.000000\n",
      "75%      4059.000000\n",
      "max      5000.000000\n",
      "   graph_id\n",
      "0         1\n",
      "1         1\n",
      "2         1\n",
      "3         1\n",
      "4         1\n"
     ]
    }
   ],
   "source": [
    "print(graph_idx_df.shape)\n",
    "print(graph_idx_df.describe())\n",
    "print(graph_idx_df.head())"
   ]
  },
  {
   "cell_type": "code",
   "execution_count": 10,
   "metadata": {},
   "outputs": [
    {
     "name": "stdout",
     "output_type": "stream",
     "text": [
      "(5000, 1)\n",
      "             label\n",
      "count  5000.000000\n",
      "mean      1.805000\n",
      "std       0.898408\n",
      "min       1.000000\n",
      "25%       1.000000\n",
      "50%       1.000000\n",
      "75%       3.000000\n",
      "max       3.000000\n",
      "   label\n",
      "0      1\n",
      "1      1\n",
      "2      1\n",
      "3      1\n",
      "4      1\n"
     ]
    }
   ],
   "source": [
    "print(graph_labels_df.shape)\n",
    "print(graph_labels_df.describe())\n",
    "print(graph_labels_df.head())"
   ]
  },
  {
   "cell_type": "code",
   "execution_count": null,
   "metadata": {},
   "outputs": [],
   "source": []
  }
 ],
 "metadata": {
  "kernelspec": {
   "display_name": "Python 3",
   "language": "python",
   "name": "python3"
  },
  "language_info": {
   "codemirror_mode": {
    "name": "ipython",
    "version": 3
   },
   "file_extension": ".py",
   "mimetype": "text/x-python",
   "name": "python",
   "nbconvert_exporter": "python",
   "pygments_lexer": "ipython3",
   "version": "3.11.5"
  }
 },
 "nbformat": 4,
 "nbformat_minor": 2
}
