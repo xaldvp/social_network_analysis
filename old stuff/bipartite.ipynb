{
 "cells": [
  {
   "cell_type": "code",
   "execution_count": null,
   "metadata": {},
   "outputs": [],
   "source": [
    "import pandas as pd\n",
    "\n",
    "edges_path = '/Users/alessandro/Downloads/COLLAB/COLLAB.edges'\n",
    "graph_idx_path = '/Users/alessandro/Downloads/COLLAB/COLLAB.graph_idx'\n",
    "graph_labels_path = '/Users/alessandro/Downloads/COLLAB/COLLAB.graph_labels'\n",
    "\n",
    "# Load files\n",
    "edges_df = pd.read_csv(edges_path, header=None, names=['source', 'target'])\n",
    "graph_idx_df = pd.read_csv(graph_idx_path, header=None, names=['graph_id'])\n",
    "graph_labels_df = pd.read_csv(graph_labels_path, header=None, names=['label'])\n"
   ]
  },
  {
   "cell_type": "code",
   "execution_count": 3,
   "metadata": {},
   "outputs": [
    {
     "name": "stdout",
     "output_type": "stream",
     "text": [
      "   source  target\n",
      "0       1       2\n",
      "1       2       1\n",
      "2       1       3\n",
      "3       3       1\n",
      "4       1       4\n",
      "   graph_id\n",
      "0         1\n",
      "1         1\n",
      "2         1\n",
      "3         1\n",
      "4         1\n",
      "   label\n",
      "0      1\n",
      "1      1\n",
      "2      1\n",
      "3      1\n",
      "4      1\n"
     ]
    }
   ],
   "source": [
    "# Inspect the data\n",
    "print(edges_df.head())\n",
    "print(graph_idx_df.head())\n",
    "print(graph_labels_df.head())"
   ]
  },
  {
   "cell_type": "code",
   "execution_count": 4,
   "metadata": {},
   "outputs": [
    {
     "data": {
      "image/png": "[encoded data removed]",
      "text/plain": [
       "<Figure size 640x480 with 1 Axes>"
      ]
     },
     "metadata": {},
     "output_type": "display_data"
    }
   ],
   "source": [
    "import networkx as nx\n",
    "import matplotlib.pyplot as plt\n",
    "edges = list(edges_df.itertuples(index=False, name=None))\n",
    "B = nx.Graph()\n",
    "U = set(u for u, v in edges)  # Insieme dei nodi U\n",
    "V = set(v for u, v in edges)  # Insieme dei nodi V\n",
    "\n",
    "# Aggiungi nodi con attributo bipartito\n",
    "B.add_nodes_from(U, bipartite=0)  # Insieme U\n",
    "B.add_nodes_from(V, bipartite=1)  # Insieme V\n",
    "\n",
    "# Aggiungi gli archi\n",
    "B.add_edges_from(edges)\n",
    "\n",
    "# Visualizzazione del grafo bipartito\n",
    "pos = nx.bipartite_layout(B, U)  # Posizionamento dei nodi\n",
    "nx.draw(B, pos, with_labels=True, node_size=500, node_color=\"skyblue\")\n",
    "plt.title(\"Grafo Bipartito\")\n",
    "plt.show()\n"
   ]
  },
  {
   "cell_type": "code",
   "execution_count": 5,
   "metadata": {},
   "outputs": [
    {
     "name": "stdout",
     "output_type": "stream",
     "text": [
      "Number of nodes: 372474\n",
      "Number of edges: 12288916\n"
     ]
    }
   ],
   "source": [
    "print(f\"Number of nodes: {B.number_of_nodes()}\")\n",
    "print(f\"Number of edges: {B.number_of_edges()}\")"
   ]
  },
  {
   "cell_type": "code",
   "execution_count": 6,
   "metadata": {},
   "outputs": [
    {
     "name": "stdout",
     "output_type": "stream",
     "text": [
      "null nodes source    0\n",
      "target    0\n",
      "dtype: int64\n",
      "duplicated nodes 24574995\n"
     ]
    }
   ],
   "source": [
    "# Check for duplicates and missing values\n",
    "print('null nodes', edges_df.isnull().sum())  # Check for missing values\n",
    "print('duplicated nodes', edges_df.duplicated().sum())  # Check for duplicates"
   ]
  },
  {
   "cell_type": "code",
   "execution_count": 7,
   "metadata": {},
   "outputs": [
    {
     "name": "stdout",
     "output_type": "stream",
     "text": [
      "duplicated nodes 0\n"
     ]
    }
   ],
   "source": [
    "# Drop duplicates if necessary\n",
    "edges_df.drop_duplicates(inplace=True)\n",
    "#checking if all duplicated nodes are deleted\n",
    "print('duplicated nodes', edges_df.duplicated().sum())"
   ]
  },
  {
   "cell_type": "code",
   "execution_count": 8,
   "metadata": {},
   "outputs": [],
   "source": [
    "avg_clustering = nx.average_clustering(B)"
   ]
  },
  {
   "cell_type": "code",
   "execution_count": 9,
   "metadata": {},
   "outputs": [
    {
     "name": "stdout",
     "output_type": "stream",
     "text": [
      "0.8911636361874256\n"
     ]
    }
   ],
   "source": [
    "print(avg_clustering)"
   ]
  },
  {
   "cell_type": "code",
   "execution_count": 12,
   "metadata": {},
   "outputs": [
    {
     "name": "stdout",
     "output_type": "stream",
     "text": [
      "label    3\n",
      "dtype: int64\n"
     ]
    },
    {
     "data": {
      "text/html": [
       "<div>\n",
       "<style scoped>\n",
       "    .dataframe tbody tr th:only-of-type {\n",
       "        vertical-align: middle;\n",
       "    }\n",
       "\n",
       "    .dataframe tbody tr th {\n",
       "        vertical-align: top;\n",
       "    }\n",
       "\n",
       "    .dataframe thead th {\n",
       "        text-align: right;\n",
       "    }\n",
       "</style>\n",
       "<table border=\"1\" class=\"dataframe\">\n",
       "  <thead>\n",
       "    <tr style=\"text-align: right;\">\n",
       "      <th></th>\n",
       "      <th>label</th>\n",
       "    </tr>\n",
       "  </thead>\n",
       "  <tbody>\n",
       "    <tr>\n",
       "      <th>count</th>\n",
       "      <td>5000.000000</td>\n",
       "    </tr>\n",
       "    <tr>\n",
       "      <th>mean</th>\n",
       "      <td>1.805000</td>\n",
       "    </tr>\n",
       "    <tr>\n",
       "      <th>std</th>\n",
       "      <td>0.898408</td>\n",
       "    </tr>\n",
       "    <tr>\n",
       "      <th>min</th>\n",
       "      <td>1.000000</td>\n",
       "    </tr>\n",
       "    <tr>\n",
       "      <th>25%</th>\n",
       "      <td>1.000000</td>\n",
       "    </tr>\n",
       "    <tr>\n",
       "      <th>50%</th>\n",
       "      <td>1.000000</td>\n",
       "    </tr>\n",
       "    <tr>\n",
       "      <th>75%</th>\n",
       "      <td>3.000000</td>\n",
       "    </tr>\n",
       "    <tr>\n",
       "      <th>max</th>\n",
       "      <td>3.000000</td>\n",
       "    </tr>\n",
       "  </tbody>\n",
       "</table>\n",
       "</div>"
      ],
      "text/plain": [
       "             label\n",
       "count  5000.000000\n",
       "mean      1.805000\n",
       "std       0.898408\n",
       "min       1.000000\n",
       "25%       1.000000\n",
       "50%       1.000000\n",
       "75%       3.000000\n",
       "max       3.000000"
      ]
     },
     "execution_count": 12,
     "metadata": {},
     "output_type": "execute_result"
    }
   ],
   "source": [
    "print(graph_labels_df.nunique())\n",
    "graph_labels_df.describe()"
   ]
  },
  {
   "cell_type": "code",
   "execution_count": 15,
   "metadata": {},
   "outputs": [
    {
     "name": "stdout",
     "output_type": "stream",
     "text": [
      "graph_id    5000\n",
      "dtype: int64\n",
      "        graph_id\n",
      "372469      5000\n",
      "372470      5000\n",
      "372471      5000\n",
      "372472      5000\n",
      "372473      5000\n"
     ]
    }
   ],
   "source": [
    "print(graph_idx_df.nunique())\n",
    "graph_idx_df.describe()\n",
    "print(graph_idx_df.tail())"
   ]
  }
 ],
 "metadata": {
  "kernelspec": {
   "display_name": "Python 3",
   "language": "python",
   "name": "python3"
  },
  "language_info": {
   "codemirror_mode": {
    "name": "ipython",
    "version": 3
   },
   "file_extension": ".py",
   "mimetype": "text/x-python",
   "name": "python",
   "nbconvert_exporter": "python",
   "pygments_lexer": "ipython3",
   "version": "3.11.5"
  }
 },
 "nbformat": 4,
 "nbformat_minor": 2
}
